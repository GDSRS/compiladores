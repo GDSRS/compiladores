{
 "cells": [
  {
   "cell_type": "markdown",
   "metadata": {},
   "source": [
    "# Teste - Técnicas de Análise Sintática\n",
    "\n",
    "\n",
    "* **nome:** Aluno(a) 1\n",
    "* **matrícula:** 12/345678\n",
    "* **nome:** Aluno(a) 2\n",
    "* **matrícula:** 98/765432"
   ]
  },
  {
   "cell_type": "code",
   "execution_count": 276,
   "metadata": {},
   "outputs": [],
   "source": [
    "# Import o lark\n",
    "try:\n",
    "    import lark\n",
    "except ImportError:\n",
    "    !pip install lark-parser --user\n",
    "    import lark"
   ]
  },
  {
   "cell_type": "markdown",
   "metadata": {},
   "source": [
    "## Questão 1 - Descida recursiva\n",
    "\n",
    "### Introdução\n",
    "\n",
    "A gramática abaixo descreve de forma simplificada uma parte da sintaxe do SQL na notação do Lark. Neste exercício implementaremos um analisador sintático de descida recursiva para esta gramática."
   ]
  },
  {
   "cell_type": "code",
   "execution_count": 318,
   "metadata": {},
   "outputs": [],
   "source": [
    "grammar = r\"\"\"\n",
    "// Produções\n",
    "start   : select\n",
    "\n",
    "select  : \"SELECT\" columns \"FROM\" name [where] [orderby] \";\"\n",
    "\n",
    "columns : \"*\"   -> columns_all\n",
    "        | names\n",
    "\n",
    "names   : name (\",\" name)*\n",
    "\n",
    "where   : \"WHERE\" condition\n",
    "\n",
    "condition : name op value\n",
    "\n",
    "orderby : \"ORDER\" \"BY\" names direction\n",
    "\n",
    "\n",
    "// Terminais\n",
    "name  : NAME\n",
    "op    : OP\n",
    "value : VALUE | NAME\n",
    "direction : DIRECTION\n",
    "\n",
    "\n",
    "// Expressões regulares\n",
    "DIRECTION.2 : /ASC|DESC/\n",
    "NAME.1  : /(?!\\d)\\w+/\n",
    "VALUE.0 : /\\w+/\n",
    "OP    : /=|<|>|>=|<=/\n",
    "\n",
    "\n",
    "%ignore /\\s+/\n",
    "\"\"\""
   ]
  },
  {
   "cell_type": "markdown",
   "metadata": {},
   "source": [
    "No exercício, utilizaremos o Lark apenas para fazer a análise léxica e para conferir se a resposta está correta. Para isso, vamos definir algumas funções"
   ]
  },
  {
   "cell_type": "code",
   "execution_count": 278,
   "metadata": {},
   "outputs": [],
   "source": [
    "parser = lark.Lark(grammar, parser='lalr')\n",
    "\n",
    "# Analisador léxico\n",
    "lex = lambda st: list(parser.lex(st))\n",
    "\n",
    "# Imprime o resultado na forma \"pretty print\"\n",
    "pretty = lambda st: print(parser.parse(st).pretty())\n",
    "\n",
    "# Transforma a árvore sintática em dicionários e tipos Python básicos\n",
    "to_expr = lambda st: DictTransformer().transform(parser.parse(st))"
   ]
  },
  {
   "cell_type": "markdown",
   "metadata": {},
   "source": [
    "Usamos o transformer abaixo para converter a árvore sintática para um dicionário. Usamos este código apenas como referência de como deve ser o resultado esperado da árvore resultante da análise sintática"
   ]
  },
  {
   "cell_type": "code",
   "execution_count": 279,
   "metadata": {},
   "outputs": [],
   "source": [
    "class DictTransformer(lark.InlineTransformer):\n",
    "    \"\"\"\n",
    "    Converte árvore para dicionário\n",
    "    \"\"\"\n",
    "    start = lambda _, ast: ast \n",
    "    name = op = value = direction = str\n",
    "    condition = lambda _, a, op, b: [op, a, b]\n",
    "    where = lambda _, cond: {'where': cond}\n",
    "    orderby = lambda _, names, direction: {'order_by': [direction, *names]}\n",
    "    names = lambda _, *args: list(args)\n",
    "    columns = lambda _, names: names\n",
    "    columns_all = lambda _: None\n",
    "    \n",
    "    def select(self, columns, table, *args):\n",
    "        result = {\n",
    "            'command': 'select', \n",
    "            'columns': columns, \n",
    "            'table': table,\n",
    "        }\n",
    "        for arg in args:\n",
    "            result.update(arg)\n",
    "        return result"
   ]
  },
  {
   "cell_type": "markdown",
   "metadata": {},
   "source": [
    "### Exemplos\n",
    "\n",
    "Considere alguns exemplos abaixo e os resultados esperados tanto na forma \"pretty print\" quanto na forma final a ser implementada com a descida recursiva. "
   ]
  },
  {
   "cell_type": "code",
   "execution_count": 284,
   "metadata": {},
   "outputs": [],
   "source": [
    "# Exemplos\n",
    "bad_1 = 'SELECT * FROM users'  # sem ponto-vírgula no final\n",
    "bad_2 = 'SELECT foo,bar WHERE age = 0;'  # sem a cláusula FROM\n",
    "bad_3 = 'SELECT foo,bar FROM users ORDER BY age;'  # sem ordenamento ASC/DESC\n",
    "bad_4 = 'SELECT * FROM users ASC;' # ASC sem ORDER BY \n",
    "bad_5 = 'SELECT * FROM users; SELECT' # Valores adicionais\n",
    "\n",
    "cmd_simple = 'SELECT * FROM users;'\n",
    "cmd_simple_2 = 'SELECT col1,col2 FROM users;'\n",
    "cmd_ord = 'SELECT * FROM users ORDER BY name ASC;'\n",
    "cmd_where = 'SELECT * FROM users WHERE name = surname;'\n",
    "cmd_full = 'SELECT name, age FROM users WHERE age > 18 ORDER BY name ASC;'\n",
    "\n",
    "good = [cmd_simple, cmd_simple_2, cmd_ord, cmd_where, cmd_full]\n",
    "bad = [bad_1, bad_2, bad_3, bad_4, bad_5]\n",
    "\n",
    "cmd = cmd_full"
   ]
  },
  {
   "cell_type": "markdown",
   "metadata": {},
   "source": [
    "Veja o resultado esperado"
   ]
  },
  {
   "cell_type": "code",
   "execution_count": 285,
   "metadata": {},
   "outputs": [
    {
     "name": "stdout",
     "output_type": "stream",
     "text": [
      "start\n",
      "  select\n",
      "    columns\n",
      "      names\n",
      "        name\tname\n",
      "        name\tage\n",
      "    name\tusers\n",
      "    where\n",
      "      condition\n",
      "        name\tage\n",
      "        op\t>\n",
      "        value\t18\n",
      "    orderby\n",
      "      names\n",
      "        name\tname\n",
      "      direction\tASC\n",
      "\n"
     ]
    }
   ],
   "source": [
    "# Pretty printing\n",
    "pretty(cmd)"
   ]
  },
  {
   "cell_type": "code",
   "execution_count": 286,
   "metadata": {},
   "outputs": [
    {
     "data": {
      "text/plain": [
       "{'columns': ['name', 'age'],\n",
       " 'command': 'select',\n",
       " 'order_by': ['ASC', 'name'],\n",
       " 'table': 'users',\n",
       " 'where': ['>', 'age', '18']}"
      ]
     },
     "execution_count": 286,
     "metadata": {},
     "output_type": "execute_result"
    }
   ],
   "source": [
    "# Seu parser deve emitir uma saída como esta\n",
    "to_expr(cmd)"
   ]
  },
  {
   "cell_type": "markdown",
   "metadata": {},
   "source": [
    "### Uma pausa para metaclasses...\n",
    "\n",
    "Abaixo temos uma implementação da metaclasse do nosso Parser. Não tente entender isto agora, pule para a próxima seção!"
   ]
  },
  {
   "cell_type": "code",
   "execution_count": 192,
   "metadata": {},
   "outputs": [],
   "source": [
    "from collections import deque\n",
    "from functools import wraps\n",
    "\n",
    "class RecursiveParserMeta(type):\n",
    "    \"\"\"\n",
    "    Metaclasse* para criar um parser de descida recursiva. \n",
    "    Implementa um sistema de debug automático\n",
    "    \n",
    "    * metaclasse = \"hoje é dia de maldade!\"\n",
    "    \"\"\"\n",
    "    def __new__(cls, name, bases, ns):\n",
    "        def decorator(name, func):\n",
    "            @wraps(func)\n",
    "            def method(self, *args, **kwargs):\n",
    "                try:\n",
    "                    self._depth += 1\n",
    "                    prefix = (self._depth - 1) * 4 * ' '\n",
    "                    print('%scalled %s()' % (prefix, name))\n",
    "                    res = func(self, *args, **kwargs)\n",
    "                    self._depth -= 1\n",
    "                    print('%s%s() -> %r' % (prefix, name, res))\n",
    "                    if self.debug >= 2:\n",
    "                        tk_show = ('%s(%r)' % (tk.type, str(tk)) for tk in self.tokens)\n",
    "                        print('%s  - tokens: %s\\n' % (prefix, ' '.join(tk_show)))\n",
    "                    return res\n",
    "                except Exception as exc:\n",
    "                    print('error calling %s(): %s' % (name, exc))\n",
    "                    raise\n",
    "            return method\n",
    "        \n",
    "        if ns.get('debug'):\n",
    "            for k, v in ns.items():\n",
    "                if callable(v):\n",
    "                    ns[k] = decorator(k, v)\n",
    "        return super().__new__(cls, name, bases, ns)"
   ]
  },
  {
   "cell_type": "markdown",
   "metadata": {},
   "source": [
    "### Parser de descida recursiva\n",
    "\n",
    "Agora temos o parser da descida recursiva. Nossa classe base implementa alguns métodos úteis como pop(), peek() e is_empty(). Leia o código abaixo para se familizarizar com a função de cada método."
   ]
  },
  {
   "cell_type": "code",
   "execution_count": 324,
   "metadata": {},
   "outputs": [],
   "source": [
    "class RecursiveParser(metaclass=RecursiveParserMeta):\n",
    "    \"\"\"\n",
    "    Implementação base do parser recursivo\n",
    "    \"\"\"\n",
    "    check_finished = True\n",
    "    _depth = 0\n",
    "    \n",
    "    @classmethod\n",
    "    def parse(cls, src):\n",
    "        \"\"\"\n",
    "        Executa parser para uma string de código de entrada. Executada como método da classe.\n",
    "        \n",
    "        >>> MyParserClass.parse(\"some string of code\")\n",
    "        (...)\n",
    "        \"\"\"\n",
    "        parser = cls(lex(src))\n",
    "        ast = parser.start()\n",
    "        if parser.is_empty() or not parser.check_finished:\n",
    "            return ast\n",
    "        raise SyntaxError('parsing finished with unread tokens: %s' % parser.peek())\n",
    "    \n",
    "    def __init__(self, tokens):\n",
    "        self.tokens = deque(tokens)\n",
    "                \n",
    "    def is_empty(self):\n",
    "        \"Retorna True se a lista de tokens estiver exaurida\"\n",
    "        return not bool(self.tokens)\n",
    "        \n",
    "    def peek(self):\n",
    "        \"Mostra próximo token ou None\"\n",
    "        return self.tokens[0] if self.tokens else None\n",
    "    \n",
    "    def peek_type(self):\n",
    "        \"Mostra o tipo do próximo token ou None\"\n",
    "        return self.tokens[0].type if self.tokens else None\n",
    "    \n",
    "    def pop(self, kind=None):\n",
    "        \"Consome o próximo token, retornando-o.\"\n",
    "        if not self.tokens:\n",
    "            if kind:\n",
    "                raise SyntaxError('EOF when trying to read a %s' % kind)\n",
    "            return None\n",
    "        \n",
    "        tk = self.tokens.popleft()\n",
    "        if kind and tk.type != kind:\n",
    "            raise SyntaxError('Expected a %r, but got a %r' % (kind, tk.type))\n",
    "        return tk\n",
    "    \n",
    "    def push(self, tk):\n",
    "        \"Devolve token para o início da lista\"\n",
    "        self.tokens.appendleft(tk)\n",
    "        \n",
    "    def start(self):\n",
    "        raise NotImplementedError('você deve implementar o método start em uma sub-classe')"
   ]
  },
  {
   "cell_type": "markdown",
   "metadata": {},
   "source": [
    "### SqlParser\n",
    "\n",
    "Agora vamos implementar nosso parser herdando as funcionalidades genéricas do RecusiveParser. A parte mais importante desta classe é sobrescrever o método start(). É lógico que para implementar a descida recursiva, \n",
    "devemos implementar vários outros métodos chamados a partir deste método inicial. \n",
    "\n",
    "A classe abaixo fornece um esqueleto da implementação com um método para cada regra sintática da gramática. Você deve completar a implementação e pode simplificar algumas regras ou métodos opcionalmente."
   ]
  },
  {
   "cell_type": "code",
   "execution_count": 301,
   "metadata": {},
   "outputs": [],
   "source": [
    "class SqlParser(RecursiveParser):\n",
    "    check_finished = False  # Se False, retorna árvore sintática mesmo se ainda existirem tokens não-lidos\n",
    "    debug = 2  # 0, 1, ou 2, para mensagens de erro\n",
    "    \n",
    "    def start(self):\n",
    "        \"\"\"\n",
    "        start   : select\n",
    "        \"\"\"\n",
    "        return NotImplemented\n",
    "    \n",
    "    def select(self):\n",
    "        \"\"\"\n",
    "        select  : \"SELECT\" columns \"FROM\" name [where] [orderby] \";\"\n",
    "        \"\"\"\n",
    "        columns = [...]\n",
    "        table = [...]\n",
    "        where = {}\n",
    "        orderby = {}\n",
    "        return {\n",
    "            \"command\": \"select\",\n",
    "            \"columns\": columns,\n",
    "            \"table\": table,\n",
    "            **where,\n",
    "            **orderby,\n",
    "        }\n",
    "\n",
    "    def columns(self):\n",
    "        \"\"\"\n",
    "        columns : \"*\"   -> columns_all \n",
    "                | names\n",
    "        \"\"\"\n",
    "        return None # p/ * ou uma tupla para lista de nomes\n",
    "    \n",
    "    def names(self):\n",
    "        \"\"\"\n",
    "        names   : name (\",\" name)*\n",
    "        \"\"\"\n",
    "        return [...]\n",
    "    \n",
    "    def where(self):\n",
    "        \"\"\"\n",
    "        where   : \"WHERE\" condition\n",
    "        \"\"\"\n",
    "        condition = ...\n",
    "        return {'where': condition}\n",
    "    \n",
    "    def condition(self):\n",
    "        \"\"\"\n",
    "        condition : name op value\n",
    "        \"\"\"\n",
    "        name = ...\n",
    "        op = ...\n",
    "        value = ...\n",
    "        return [op, name, value]\n",
    "    \n",
    "    def orderby(self):\n",
    "        \"\"\"\n",
    "        orderby : \"ORDER\" \"BY\" names direction\n",
    "        \"\"\"\n",
    "        names = ...\n",
    "        direction = ...\n",
    "        return {\"order_by\": [direction, *names]}\n",
    "    \n",
    "    # Terminais (com alguns pontos de bônus)\n",
    "    name = lambda self: str(self.pop('NAME'))\n",
    "    op = lambda self: str(self.pop('OP'))\n",
    "    direction = lambda self: str(self.pop('DIRECTION'))\n",
    "    \n",
    "    def value(self):\n",
    "        \"\"\"\n",
    "        value : NAME | VALUE\n",
    "        \"\"\"\n",
    "        return ..."
   ]
  },
  {
   "cell_type": "markdown",
   "metadata": {},
   "source": [
    "### Testando o resultado\n",
    "\n",
    "Chamamos o parser com o método de classe .parse()\n",
    "\n",
    "O nível de debug pode ser controlado com as variáveis de classe \"debug\" e \"check_finished\". No exemplo, deixamos o debug no máximo e check_finished = False. Uma vez que o código estiver pronto e funcionando, mude debug=0 e check_finished=True."
   ]
  },
  {
   "cell_type": "code",
   "execution_count": 302,
   "metadata": {},
   "outputs": [
    {
     "name": "stdout",
     "output_type": "stream",
     "text": [
      "called start()\n",
      "start() -> NotImplemented\n",
      "  - tokens: SELECT('SELECT') NAME('name') COMMA(',') NAME('age') FROM('FROM') NAME('users') WHERE('WHERE') NAME('age') OP('>') VALUE('18') ORDER('ORDER') BY('BY') NAME('name') DIRECTION('ASC') SEMICOLON(';')\n",
      "\n"
     ]
    },
    {
     "data": {
      "text/plain": [
       "NotImplemented"
      ]
     },
     "execution_count": 302,
     "metadata": {},
     "output_type": "execute_result"
    }
   ],
   "source": [
    "SqlParser.parse(cmd)"
   ]
  },
  {
   "cell_type": "markdown",
   "metadata": {
    "hideCode": true
   },
   "source": [
    "### Testes unitários"
   ]
  },
  {
   "cell_type": "code",
   "execution_count": 328,
   "metadata": {},
   "outputs": [
    {
     "name": "stdout",
     "output_type": "stream",
     "text": [
      "Testes finalizados!\n"
     ]
    }
   ],
   "source": [
    "# Exemplos positivos\n",
    "from pprint import pprint\n",
    "\n",
    "for cmd in good:\n",
    "    try:\n",
    "        ast_got = SqlParser.parse(cmd)\n",
    "    except SyntaxError as exc:\n",
    "        print('Erro de sintaxe inválida no comando:\\n  %s' % cmd)\n",
    "        print(exc, '\\n')\n",
    "        continue\n",
    "    ast_expected = to_expr(cmd)\n",
    "    \n",
    "    if ast_got != ast_expected:\n",
    "        print('Resultado incorreto no comando:\\n  %s' % cmd)\n",
    "        print('Experado:')\n",
    "        pprint(ast_expected)\n",
    "        print('Obtido:')\n",
    "        pprint(ast_got)\n",
    "print('Testes finalizados!')"
   ]
  },
  {
   "cell_type": "code",
   "execution_count": 330,
   "metadata": {},
   "outputs": [],
   "source": [
    "# Testes negativos\n",
    "\n",
    "for cmd in bad:\n",
    "    try:\n",
    "        SqlParser.parse(cmd)\n",
    "    except SyntaxError:\n",
    "        pass\n",
    "    except Exception as exc:\n",
    "        print('Erro de sintaxe inválida no comando:\\n  %s' % cmd)\n",
    "        print(exc, '\\n')\n",
    "    else:\n",
    "        print('Aceitou comando inválido:\\n  %s' % cmd)"
   ]
  },
  {
   "cell_type": "markdown",
   "metadata": {},
   "source": [
    "## Questão 2 - Parser LL(1)\n",
    "\n",
    "Na segunda questão, vamos implementar um parser LL(1) para uma gramática simples de uma calculadora. A gramática de referência na notação do Lark segue abaixo. Observe que como o Lark não aceita produções vazias, tivemos que usar um pouco de criatividade para exprimir a gramática."
   ]
  },
  {
   "cell_type": "code",
   "execution_count": 333,
   "metadata": {},
   "outputs": [],
   "source": [
    "grammar = r\"\"\"\n",
    "start    : expr\n",
    "\n",
    "expr     : term expr_rhs\n",
    "\n",
    "expr_rhs : [\"+\" term expr_rhs]\n",
    "      // | epsilon\n",
    "\n",
    "term     : atom term_rhs\n",
    "\n",
    "term_rhs : [\"*\" atom term_rhs]\n",
    "      // | epsilon\n",
    "\n",
    "atom     : \"(\" expr \")\"\n",
    "         | INT\n",
    "\n",
    "INT      : /\\d+/\n",
    "%ignore /\\s+/\n",
    "\"\"\""
   ]
  },
  {
   "cell_type": "markdown",
   "metadata": {},
   "source": [
    "Utilizamos o Lark para criar o lexer e uma implementação de referência."
   ]
  },
  {
   "cell_type": "code",
   "execution_count": 341,
   "metadata": {},
   "outputs": [],
   "source": [
    "from lark import Token\n",
    "\n",
    "EOF = Token('EOF', '$')\n",
    "parser = lark.Lark(grammar, parser='lalr')\n",
    "lex = lambda st: [*parser.lex(st), EOF]"
   ]
  },
  {
   "cell_type": "markdown",
   "metadata": {},
   "source": [
    "Veja os exemplos"
   ]
  },
  {
   "cell_type": "code",
   "execution_count": 342,
   "metadata": {},
   "outputs": [
    {
     "name": "stdout",
     "output_type": "stream",
     "text": [
      "PARSING\n",
      "\n",
      "start\n",
      "  expr\n",
      "    term\n",
      "      atom\n",
      "        expr\n",
      "          term\n",
      "            atom\t20\n",
      "            term_rhs\n",
      "          expr_rhs\n",
      "            term\n",
      "              atom\t1\n",
      "              term_rhs\n",
      "            expr_rhs\n",
      "      term_rhs\n",
      "        atom\t2\n",
      "        term_rhs\n",
      "    expr_rhs\n",
      "\n",
      "\n",
      "LEXER\n"
     ]
    },
    {
     "data": {
      "text/plain": [
       "[Token(LPAR, '('),\n",
       " Token(INT, '20'),\n",
       " Token(PLUS, '+'),\n",
       " Token(INT, '1'),\n",
       " Token(RPAR, ')'),\n",
       " Token(STAR, '*'),\n",
       " Token(INT, '2'),\n",
       " Token(EOF, '$')]"
      ]
     },
     "metadata": {},
     "output_type": "display_data"
    }
   ],
   "source": [
    "print('PARSING\\n')\n",
    "print(parser.parse('(20 + 1) * 2').pretty())\n",
    "\n",
    "print('\\nLEXER')\n",
    "display(lex('(20 + 1) * 2'))"
   ]
  },
  {
   "cell_type": "markdown",
   "metadata": {},
   "source": [
    "### Representação da gramática como estrutura de dados\n",
    "\n",
    "Vamos representar a gramática como uma estrutura de dados. Para isto, usamos um dicionário de strings representando os símbolos terminais para uma lista de produções para este terminal. Cada produção, por sua vez, é uma lista de símbolos. \n",
    "\n",
    "Representamos os símbolos não terminais por strings e os terminais como funções que lêem um token e retornam True, se o token for do tipo esperado, e False caso contrário."
   ]
  },
  {
   "cell_type": "code",
   "execution_count": 343,
   "metadata": {},
   "outputs": [],
   "source": [
    "def tk(name): \n",
    "    \"\"\"\n",
    "    tk(name) -> cria uma função que representa uma categoria de tokens.\n",
    "    \n",
    "    A função resultante recebe um valor e retorna se o mesmo é um token do tipo especificado.\n",
    "    \n",
    "    Ex:\n",
    "    >>> fn = tk('NAME')\n",
    "    >>> fn(lark.Token('NAME', 'hi')), fn(lark.Token('PLUS', '+')), fn('non-terminal')\n",
    "    True, False, False\n",
    "    \"\"\" \n",
    "    func = lambda tk: getattr(tk, 'type', None) == name\n",
    "    func.__name__ = name\n",
    "    func.__qualname__ = name\n",
    "    return func\n",
    "\n",
    "grammar = {\n",
    "    'expr': [\n",
    "        ['term', 'expr_rhs'],\n",
    "    ],\n",
    "    'expr_rhs': [\n",
    "        [tk('PLUS'), 'term', 'expr_rhs'],\n",
    "        [], # epsilon\n",
    "    ],\n",
    "    'term': [\n",
    "        ['atom', 'term_rhs'],\n",
    "    ],     \n",
    "    'term_rhs': [\n",
    "        [tk('STAR'), 'atom', 'term_rhs'],\n",
    "        [], # epsilon\n",
    "    ],\n",
    "    'atom':[\n",
    "        [tk('LPAR'), 'expr', tk('RPAR')],\n",
    "        [tk('INT')],\n",
    "    ],\n",
    "}"
   ]
  },
  {
   "cell_type": "markdown",
   "metadata": {},
   "source": [
    "Neste exercício, já fornecemos a tabela de parsing para vocês como um dicionário de (não-terminal, terminal) -> regra de produção."
   ]
  },
  {
   "cell_type": "code",
   "execution_count": null,
   "metadata": {},
   "outputs": [],
   "source": [
    "expr = grammar['expr']\n",
    "expr_rhs = grammar['expr_rhs']\n",
    "term = grammar['term']\n",
    "term_rhs = grammar['term_rhs']\n",
    "atom = grammar['atom']\n",
    "\n",
    "parse_table = {\n",
    "    # expr\n",
    "    ('expr', 'LPAR'): expr[0],\n",
    "    ('expr', 'INT'): expr[0],\n",
    "    \n",
    "    # expr_rhs\n",
    "    ('expr_rhs', 'PLUS'): expr_rhs[0],\n",
    "    ('expr_rhs', 'RPAR'): expr_rhs[1],\n",
    "    ('expr_rhs', 'EOF'):  expr_rhs[1],\n",
    "    \n",
    "    # term\n",
    "    ('term', 'LPAR'): term[0],\n",
    "    ('term', 'INT'):  term[0],\n",
    "    \n",
    "    # term_rhs\n",
    "    ('term_rhs', 'STAR'): term_rhs[0],\n",
    "    ('term_rhs', 'PLUS'): term_rhs[1],\n",
    "    ('term_rhs', 'RPAR'): term_rhs[1],\n",
    "    ('term_rhs', 'EOF'):  term_rhs[1],\n",
    "    \n",
    "    # atom\n",
    "    ('atom', 'LPAR'): atom[0],\n",
    "    ('atom', 'INT'):  atom[1],\n",
    "}"
   ]
  },
  {
   "cell_type": "markdown",
   "metadata": {},
   "source": [
    "### Parser LL(1), detectando valores válidos\n",
    "\n",
    "Crie uma função que implemente o algoritmo LL(1) para verificar se uma expressão de entrada fornecida como uma\n",
    "string faz parte da linguagem considerada ou não."
   ]
  },
  {
   "cell_type": "code",
   "execution_count": 344,
   "metadata": {},
   "outputs": [
    {
     "data": {
      "text/plain": [
       "False"
      ]
     },
     "execution_count": 344,
     "metadata": {},
     "output_type": "execute_result"
    }
   ],
   "source": [
    "def LL1_test(src: str) -> bool:\n",
    "    return False\n",
    "\n",
    "LL1_test('(20 + 1) * 2')"
   ]
  },
  {
   "cell_type": "markdown",
   "metadata": {},
   "source": [
    "### Parser LL(1), construindo a árvore sintática\n",
    "\n",
    "Crie uma função que implemente o algoritmo LL(1) e construa a árvore sintática concreta a partir daí. Expresse a árvore concreta como uma s-expression.\n",
    "\n",
    "Dica: para construir a árvore, devemos manter uma pilha de nós representados como listas. A cada vez que uma substituição for realizada, devemos adicionar um elemento novo na pilha. "
   ]
  },
  {
   "cell_type": "code",
   "execution_count": 347,
   "metadata": {},
   "outputs": [
    {
     "data": {
      "text/plain": [
       "False"
      ]
     },
     "execution_count": 347,
     "metadata": {},
     "output_type": "execute_result"
    }
   ],
   "source": [
    "def LL1_parse(src: str) -> bool:\n",
    "    return False\n",
    "\n",
    "LL1_parse('40 + 2') == \\\n",
    "['start',\n",
    "    ['expr',\n",
    "      ['term', \n",
    "           ['atom', Token('INT', '40')], \n",
    "           ['term_rhs']],\n",
    "      ['expr_rhs',\n",
    "           Token('PLUS', '+'),\n",
    "           ['term', \n",
    "                ['atom', Token('INT', '2')], \n",
    "                ['term_rhs']],\n",
    "           ['expr_rhs']]]]"
   ]
  },
  {
   "cell_type": "code",
   "execution_count": 256,
   "metadata": {},
   "outputs": [
    {
     "data": {
      "text/plain": [
       "True"
      ]
     },
     "execution_count": 256,
     "metadata": {},
     "output_type": "execute_result"
    }
   ],
   "source": [
    "\n",
    "\n",
    "def ll1_test(src):\n",
    "    tokens = lex(src)\n",
    "    instructions = ['expr', tk('EOF')]\n",
    "\n",
    "    while instructions:\n",
    "        inst = instructions.pop(0)\n",
    "        if callable(inst):\n",
    "            if inst(tokens[0]):\n",
    "                tokens.pop(0)\n",
    "            else:\n",
    "                raise SyntaxError('unexpected token: %r' % tokens[0])\n",
    "        else:\n",
    "            new = parse_table[inst, tokens[0].type]\n",
    "            instructions = [*new, *instructions]\n",
    "    return True\n",
    "\n",
    "ll1_test('(20 + 1) * 2')"
   ]
  },
  {
   "cell_type": "code",
   "execution_count": 345,
   "metadata": {},
   "outputs": [
    {
     "data": {
      "text/plain": [
       "['start',\n",
       " ['expr',\n",
       "  ['term', ['atom', Token(INT, '40')], ['term_rhs']],\n",
       "  ['expr_rhs',\n",
       "   Token(PLUS, '+'),\n",
       "   ['term', ['atom', Token(INT, '2')], ['term_rhs']],\n",
       "   ['expr_rhs']]],\n",
       " Token(EOF, '$')]"
      ]
     },
     "execution_count": 345,
     "metadata": {},
     "output_type": "execute_result"
    }
   ],
   "source": [
    "def ll1_parse(src):\n",
    "    tokens = lex(src)\n",
    "    instructions = ['expr', tk('EOF')]\n",
    "    root = node = ['start']\n",
    "    sequence = [node]\n",
    "    \n",
    "    while instructions:\n",
    "        instr = instructions.pop(0)\n",
    "        if callable(instr):\n",
    "            if instr(tokens[0]):\n",
    "                node.append(tokens.pop(0))\n",
    "            else:\n",
    "                raise SyntaxError('unexpected token: %r' % tokens[0])\n",
    "        elif instr == ...:\n",
    "            node = sequence.pop()\n",
    "        else:\n",
    "            child = [instr]\n",
    "            node.append(child)\n",
    "            sequence.append(node)\n",
    "            node = child\n",
    "            extra = parse_table[instr, tokens[0].type]\n",
    "            instructions = [*extra, ..., *instructions]\n",
    "    return root\n",
    "\n",
    "ll1_parse('40 + 2')"
   ]
  },
  {
   "cell_type": "code",
   "execution_count": null,
   "metadata": {},
   "outputs": [],
   "source": []
  },
  {
   "cell_type": "code",
   "execution_count": 327,
   "metadata": {},
   "outputs": [
    {
     "data": {
      "text/plain": [
       "{'columns': ['name', 'age'],\n",
       " 'command': 'select',\n",
       " 'order_by': ['ASC', 'name'],\n",
       " 'table': 'users',\n",
       " 'where': ['>', 'age', '18']}"
      ]
     },
     "execution_count": 327,
     "metadata": {},
     "output_type": "execute_result"
    }
   ],
   "source": [
    "class SqlParser(RecursiveParser):\n",
    "    check_finished = False\n",
    "    debug = 0\n",
    "    \n",
    "    def start(self):\n",
    "        \"\"\"\n",
    "        start   : select\n",
    "        \"\"\"\n",
    "        return self.select()\n",
    "    \n",
    "    def select(self):\n",
    "        \"\"\"\n",
    "        select  : \"SELECT\" columns \"FROM\" name [where] [orderby] \";\"\n",
    "        \"\"\"\n",
    "        self.pop('SELECT')\n",
    "        columns = self.columns()\n",
    "        self.pop('FROM')\n",
    "        table = self.name()\n",
    "        where = self.where() if self.peek_type() == \"WHERE\" else {}\n",
    "        orderby = self.orderby() if self.peek_type() == \"ORDER\" else {}\n",
    "        self.pop('SEMICOLON')\n",
    "        return {\n",
    "            \"command\": \"select\",\n",
    "            \"columns\": columns,\n",
    "            \"table\": table,\n",
    "            **where,\n",
    "            **orderby,\n",
    "        }\n",
    "\n",
    "    def columns(self):\n",
    "        \"\"\"\n",
    "        columns : \"*\"   -> columns_all \n",
    "                | names\n",
    "        \"\"\"\n",
    "        if self.peek_type() == 'STAR':\n",
    "            self.pop()\n",
    "            return None\n",
    "        return self.names()\n",
    "    \n",
    "    def names(self):\n",
    "        \"\"\"\n",
    "        names   : name (\",\" name)*\n",
    "        \"\"\"\n",
    "        names = [self.name()]\n",
    "        while self.peek_type() == 'COMMA':\n",
    "            self.pop()\n",
    "            names.append(self.name())\n",
    "        return names\n",
    "    \n",
    "    def where(self):\n",
    "        \"\"\"\n",
    "        where   : \"WHERE\" condition\n",
    "        \"\"\"\n",
    "        self.pop('WHERE')\n",
    "        condition = self.condition()\n",
    "        return {'where': condition}\n",
    "    \n",
    "    def condition(self):\n",
    "        \"\"\"\n",
    "        condition : name op value\n",
    "        \"\"\"\n",
    "        a = self.name()\n",
    "        op = self.op()\n",
    "        b = self.value()\n",
    "        return [op, a, b]\n",
    "    \n",
    "    def orderby(self):\n",
    "        \"\"\"\n",
    "        orderby : \"ORDER\" \"BY\" names direction\n",
    "        \"\"\"\n",
    "        self.pop('ORDER')\n",
    "        self.pop('BY')\n",
    "        names = self.names()\n",
    "        direction = self.direction()\n",
    "        return {\"order_by\": [direction, *names]}\n",
    "    \n",
    "    # Terminais\n",
    "    def value(self):\n",
    "        \"\"\"\n",
    "        value : NAME | VALUE\n",
    "        \"\"\"\n",
    "        if getattr(self.peek(), 'type', None) == 'VALUE':\n",
    "            return str(self.pop())\n",
    "        else:\n",
    "            return str(self.pop('NAME'))\n",
    "    \n",
    "    name = lambda self: str(self.pop('NAME'))\n",
    "    op = lambda self: str(self.pop('OP'))\n",
    "    direction = lambda self: str(self.pop('DIRECTION'))\n",
    "    \n",
    "    \n",
    "SqlParser.parse(cmd_full)"
   ]
  },
  {
   "cell_type": "code",
   "execution_count": null,
   "metadata": {},
   "outputs": [],
   "source": []
  }
 ],
 "metadata": {
  "kernelspec": {
   "display_name": "Python 3",
   "language": "python",
   "name": "python3"
  },
  "language_info": {
   "codemirror_mode": {
    "name": "ipython",
    "version": 3
   },
   "file_extension": ".py",
   "mimetype": "text/x-python",
   "name": "python",
   "nbconvert_exporter": "python",
   "pygments_lexer": "ipython3",
   "version": "3.7.3"
  }
 },
 "nbformat": 4,
 "nbformat_minor": 2
}
