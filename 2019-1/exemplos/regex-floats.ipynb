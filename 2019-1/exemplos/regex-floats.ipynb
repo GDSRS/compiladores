{
 "cells": [
  {
   "cell_type": "markdown",
   "metadata": {},
   "source": [
    "# Expressão regular para capturar um float"
   ]
  },
  {
   "cell_type": "code",
   "execution_count": 8,
   "metadata": {},
   "outputs": [],
   "source": [
    "import re\n",
    "\n",
    "sinal = r'(?P<sign>[+-])?'\n",
    "parte_inteira = r'(?P<int>\\d+)'\n",
    "parte_fracionaria = r'\\.(?P<frac>\\d*)'\n",
    "exp = '(?:[eE](?P<exp_sign>[+-])?(?P<exp>\\d+))?'\n",
    "extra = r'(?:' + parte_fracionaria + exp + ')?'\n",
    "\n",
    "# Juntamos todas as partes\n",
    "regex = re.compile(sinal + parte_inteira + extra)"
   ]
  },
  {
   "cell_type": "markdown",
   "metadata": {},
   "source": [
    "## Conversão de string para float\n",
    "\n",
    "Utilizamos os dados obtidos a partir da expressão regular (com os grupos de captura) para reconstruir o número de ponto flutuante."
   ]
  },
  {
   "cell_type": "code",
   "execution_count": 9,
   "metadata": {},
   "outputs": [],
   "source": [
    "sign_dic = {'+': 1, '-': -1, None: 1}\n",
    "\n",
    "\n",
    "def parse_float(x):\n",
    "    # Processa utilizando expressões regulares\n",
    "    m = regex.fullmatch(x)\n",
    "    if m is None:\n",
    "        raise float('nan')\n",
    "    \n",
    "    # Obtem os grupos de captura\n",
    "    dic = m.groupdict()\n",
    "\n",
    "    # Parte inteira\n",
    "    int_p = int(dic['int'] or 0)\n",
    "    sign = sign_dic[dic['sign']]\n",
    "    \n",
    "    # Parte fracionária\n",
    "    if dic['frac'] is None:\n",
    "        frac = 0\n",
    "    else:\n",
    "        frac = int(dic['frac']) / 10 ** len(dic['frac'])\n",
    "\n",
    "    # Expoente em notação científica\n",
    "    if dic['exp'] is None:\n",
    "        exp = 0\n",
    "    else:\n",
    "        exp_sign = sign_dic[dic['exp_sign']]\n",
    "        exp = int(dic['exp']) * exp_sign\n",
    "\n",
    "    return sign * (int_p + frac) * 10 ** exp"
   ]
  },
  {
   "cell_type": "markdown",
   "metadata": {},
   "source": [
    "## Exemplo"
   ]
  },
  {
   "cell_type": "code",
   "execution_count": 10,
   "metadata": {},
   "outputs": [
    {
     "data": {
      "text/plain": [
       "(1.2e-23, 1.1999999999999998e-23)"
      ]
     },
     "execution_count": 10,
     "metadata": {},
     "output_type": "execute_result"
    }
   ],
   "source": [
    "x = '+1.2e-23'\n",
    "\n",
    "float(x), parse_float(x)"
   ]
  },
  {
   "cell_type": "markdown",
   "metadata": {},
   "source": [
    "## Teste de velocidade"
   ]
  },
  {
   "cell_type": "code",
   "execution_count": 11,
   "metadata": {},
   "outputs": [
    {
     "name": "stdout",
     "output_type": "stream",
     "text": [
      "260 ns ± 86.7 ns per loop (mean ± std. dev. of 7 runs, 10000 loops each)\n",
      "3.25 µs ± 545 ns per loop (mean ± std. dev. of 7 runs, 10000 loops each)\n"
     ]
    }
   ],
   "source": [
    "x = '1.5'\n",
    "%timeit -n 10000 float(x)\n",
    "%timeit -n 10000 parse_float(x)"
   ]
  },
  {
   "cell_type": "code",
   "execution_count": null,
   "metadata": {},
   "outputs": [],
   "source": []
  }
 ],
 "metadata": {
  "kernelspec": {
   "display_name": "Python 3",
   "language": "python",
   "name": "python3"
  },
  "language_info": {
   "codemirror_mode": {
    "name": "ipython",
    "version": 3
   },
   "file_extension": ".py",
   "mimetype": "text/x-python",
   "name": "python",
   "nbconvert_exporter": "python",
   "pygments_lexer": "ipython3",
   "version": "3.7.2"
  }
 },
 "nbformat": 4,
 "nbformat_minor": 2
}
