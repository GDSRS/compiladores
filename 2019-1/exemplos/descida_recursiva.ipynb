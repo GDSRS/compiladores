{
 "cells": [
  {
   "cell_type": "code",
   "execution_count": 1,
   "metadata": {},
   "outputs": [],
   "source": [
    "st = \"\"\"[ 12 , [ 42 , 100 , false ] ]\"\"\""
   ]
  },
  {
   "cell_type": "code",
   "execution_count": 2,
   "metadata": {},
   "outputs": [],
   "source": [
    "class Token(str):\n",
    "    \"\"\"\n",
    "    Representa um token da linguagem\n",
    "    \"\"\"\n",
    "\n",
    "def token(st):\n",
    "    tk = Token(st)\n",
    "    if st == '[':\n",
    "        tk.kind = 'LBRACK'\n",
    "    elif st == ']':\n",
    "        tk.kind = 'RBRACK'\n",
    "    elif st == ',':\n",
    "        tk.kind = 'COMMA'\n",
    "    elif st in ('true', 'false'):\n",
    "        tk.kind = 'BOOL'\n",
    "    else:\n",
    "        tk.kind = 'NUMBER'\n",
    "    return tk\n",
    "\n",
    "def lex(st):\n",
    "    st = st.replace(',',' , ').replace('[',' [ ').replace(']', ' ] ')\n",
    "    return [token(sub) for sub in st.split()]"
   ]
  },
  {
   "cell_type": "code",
   "execution_count": 3,
   "metadata": {},
   "outputs": [],
   "source": [
    "from collections import deque\n",
    "\n",
    "\n",
    "class Parser:\n",
    "    def __init__(self, st):\n",
    "        self.text = st\n",
    "        self.tokens = deque(lex(st))\n",
    "        self.pop = self.tokens.popleft\n",
    "        self.push = self.tokens.appendleft\n",
    "   \n",
    "    def peek(self):\n",
    "        return self.tokens[0]\n",
    "    \n",
    "    def value(self):\n",
    "        tk = self.pop()\n",
    "        if tk.kind == \"NUMBER\":\n",
    "            return int(tk)\n",
    "        elif tk.kind == \"BOOL\":\n",
    "            return True if tk == \"true\" else False\n",
    "        elif tk.kind == \"LBRACK\":\n",
    "            self.push(tk)\n",
    "            return self.list()\n",
    "        else:\n",
    "            raise SyntaxError\n",
    "        \n",
    "    def list(self):\n",
    "        tk = self.pop()\n",
    "        \n",
    "        if self.peek().kind == \"RBRACK\":\n",
    "            self.pop()\n",
    "            return []\n",
    "        else:\n",
    "            items = self.items()\n",
    "            if self.pop().kind != \"RBRACK\":\n",
    "                raise SyntaxError\n",
    "            \n",
    "            return items\n",
    "        \n",
    "    def items(self)->list:\n",
    "        first = self.value()\n",
    "        if(self.peek().kind == \"COMMA\"):\n",
    "            self.pop()\n",
    "            return [first, *self.items()]\n",
    "        return [first]\n",
    "    \n",
    "            \n",
    "    def run(self):\n",
    "        value = self.value()\n",
    "        if self.tokens:\n",
    "            raise SyntaxError\n",
    "        return value\n",
    "        \n",
    "\n",
    "def parse(st):\n",
    "    return Parser(st).run()"
   ]
  },
  {
   "cell_type": "code",
   "execution_count": 7,
   "metadata": {},
   "outputs": [
    {
     "data": {
      "text/plain": [
       "[5, [42, 7, [8]], 9]"
      ]
     },
     "execution_count": 7,
     "metadata": {},
     "output_type": "execute_result"
    }
   ],
   "source": [
    "parse('[5, [42, 7, [8]], 9]')"
   ]
  },
  {
   "cell_type": "code",
   "execution_count": 8,
   "metadata": {},
   "outputs": [],
   "source": [
    "answer = 42.0\n",
    "\n",
    "def add(x):\n",
    "    return x + answer\n",
    "\n",
    "def mkadd():\n",
    "    answer = 42.0\n",
    "    \n",
    "    def add(x):\n",
    "        return x + answer\n",
    "    \n",
    "    return add\n",
    "\n",
    "add2 = mkadd()"
   ]
  },
  {
   "cell_type": "code",
   "execution_count": 9,
   "metadata": {},
   "outputs": [
    {
     "name": "stdout",
     "output_type": "stream",
     "text": [
      "The slowest run took 18.59 times longer than the fastest. This could mean that an intermediate result is being cached.\n",
      "10000000 loops, best of 3: 168 ns per loop\n",
      "The slowest run took 9.11 times longer than the fastest. This could mean that an intermediate result is being cached.\n",
      "10000000 loops, best of 3: 149 ns per loop\n"
     ]
    }
   ],
   "source": [
    "%timeit add2(10)\n",
    "%timeit add(10)"
   ]
  }
 ],
 "metadata": {
  "kernelspec": {
   "display_name": "Python 3",
   "language": "python",
   "name": "python3"
  },
  "language_info": {
   "codemirror_mode": {
    "name": "ipython",
    "version": 3
   },
   "file_extension": ".py",
   "mimetype": "text/x-python",
   "name": "python",
   "nbconvert_exporter": "python",
   "pygments_lexer": "ipython3",
   "version": "3.6.5"
  }
 },
 "nbformat": 4,
 "nbformat_minor": 2
}
