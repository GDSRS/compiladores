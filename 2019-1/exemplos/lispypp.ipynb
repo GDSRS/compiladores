{
 "cells": [
  {
   "cell_type": "markdown",
   "metadata": {},
   "source": [
    "# Lispy\n",
    "\n",
    "Veja o tutorial do Peter Norvig em http://norvig.com/lispy.html. Vamos implementar\n",
    "um interpretador de Lisp/Scheme em Python."
   ]
  },
  {
   "cell_type": "code",
   "execution_count": 75,
   "metadata": {},
   "outputs": [],
   "source": [
    "# Imports\n",
    "from lark import Lark, InlineTransformer\n",
    "import math\n",
    "import operator as op\n",
    "from collections import deque, ChainMap\n",
    "\n",
    "\n",
    "# Apelidos\n",
    "class Symbol:\n",
    "    def __init__(self, st):\n",
    "        self.data = st\n",
    "        \n",
    "    def __repr__(self):\n",
    "        return self.data\n",
    "    \n",
    "    def __hash__(self):\n",
    "        return hash(self.data)\n",
    "    \n",
    "    def __eq__(self, other):\n",
    "        if isinstance(other, Symbol):\n",
    "            return self.data == other.data\n",
    "        return NotImplemented\n",
    "    \n",
    "Ast = list      # árvore sintática\n",
    "Ctx = ChainMap  # contexto de execução"
   ]
  },
  {
   "cell_type": "code",
   "execution_count": null,
   "metadata": {},
   "outputs": [],
   "source": []
  },
  {
   "cell_type": "markdown",
   "metadata": {},
   "source": [
    "# Análise sintática + léxica\n",
    "\n",
    "A principal função é eval_scheme(), que analisa uma string de código e retorna a árvore sintática correspondente."
   ]
  },
  {
   "cell_type": "code",
   "execution_count": 153,
   "metadata": {},
   "outputs": [],
   "source": [
    "# Contexto de execução\n",
    "default_context = {\n",
    "    Symbol('+'): op.add,\n",
    "    Symbol('-'): op.sub,\n",
    "    Symbol('*'): op.mul,\n",
    "    Symbol('/'): op.truediv,\n",
    "    Symbol('<'): op.lt,\n",
    "    Symbol('<='): op.le,\n",
    "    Symbol('sqrt'): math.sqrt,\n",
    "}\n",
    "\n",
    "grammar = r'''\n",
    "start : value*\n",
    "\n",
    "?value : INT     -> int\n",
    "      | FLOAT   -> float\n",
    "      | STRING  -> string\n",
    "      | SYMBOL  -> symbol\n",
    "      | \"nil\"   -> nil\n",
    "      | bool\n",
    "      | quoted\n",
    "      | sexpr\n",
    "      | infix\n",
    "\n",
    "bool : \"#t\" -> true | \"true\" -> true | \"🙂\" -> true\n",
    "     | \"#f\" -> false | \"false\" -> false | \"🙁\" -> false\n",
    "\n",
    "infix: \"[\" value value value \"]\" \n",
    "\n",
    "quoted : \"'\" value\n",
    "\n",
    "sexpr : \"(\" value* \")\"\n",
    "\n",
    "FLOAT.2  : /\\d+\\.\\d+/\n",
    "INT.1    : /\\d+/\n",
    "SYMBOL.0 : /[-\\w+*\\/!$@<>]+/\n",
    "STRING   : /\"[^\"]*\"/\n",
    "\n",
    "%ignore /;[^\\n]*/\n",
    "%ignore /\\s+/\n",
    "'''\n",
    "\n",
    "class LispyPPTransformer(InlineTransformer):\n",
    "    int = int\n",
    "    float = float\n",
    "    \n",
    "    def start(self, *args):\n",
    "        if len(args) == 1:\n",
    "            return args[0]\n",
    "        return [Symbol('begin'), *args]\n",
    "    \n",
    "    def string(self, x):\n",
    "        return x[1:-1]\n",
    "    \n",
    "    def true(self):\n",
    "        return True\n",
    "    \n",
    "    def false(self):\n",
    "        return False\n",
    "    \n",
    "    def nil(self):\n",
    "        return None\n",
    "    \n",
    "    def symbol(self, x):\n",
    "        return Symbol(x)\n",
    "    \n",
    "    def quoted(self, x):\n",
    "        return [Symbol('quote'), x]\n",
    "    \n",
    "    def sexpr(self, *args):\n",
    "        return [*args]\n",
    "    \n",
    "    def infix(self, x, y, z):\n",
    "        if(y == Symbol(\"<-\")):\n",
    "            return [Symbol(\"define\"), x, z]\n",
    "        else:\n",
    "            return [y, x, z]\n",
    "    \n",
    "    \n",
    "lark = Lark(grammar, parser='lalr', transformer=LispyPPTransformer())\n",
    "\n",
    "\n",
    "def eval_scheme(st: str, ctx=default_context):\n",
    "    \"\"\"\n",
    "    Avalia a string de código Scheme no contexto padrão.\n",
    "    \"\"\"\n",
    "    \n",
    "    ast = parse(st)\n",
    "    return run_ast(ast, ChainMap({}, ctx))\n",
    "\n",
    "\n",
    "def parse(st: str) -> Ast:\n",
    "    \"\"\"\n",
    "    Realiza análise sintática da string de código e retorna uma \n",
    "    árvore sintática\n",
    "    \"\"\"\n",
    "    ast = lark.parse(st)\n",
    "    #for tk in lark.lex(st): print(repr(tk))\n",
    "#     print(ast.pretty())\n",
    "    return ast"
   ]
  },
  {
   "cell_type": "code",
   "execution_count": 136,
   "metadata": {},
   "outputs": [
    {
     "name": "stdout",
     "output_type": "stream",
     "text": [
      "Token(LPAR, '(')\n",
      "Token(SYMBOL, 'define')\n",
      "Token(SYMBOL, 'x')\n",
      "Token(INT, '42')\n",
      "Token(RPAR, ')')\n",
      "Token(LPAR, '(')\n",
      "Token(SYMBOL, 'define')\n",
      "Token(SYMBOL, 'outra-coisa')\n",
      "Token(RPAR, ')')\n",
      "Token(LSQB, '[')\n",
      "Token(INT, '4')\n",
      "Token(SYMBOL, '+')\n",
      "Token(INT, '5')\n",
      "Token(RSQB, ']')\n"
     ]
    },
    {
     "data": {
      "text/plain": [
       "[begin, [define, x, 42], [define, outra-coisa], [+, 4, 5]]"
      ]
     },
     "execution_count": 136,
     "metadata": {},
     "output_type": "execute_result"
    }
   ],
   "source": [
    "st = \"\"\"\n",
    "    (define x 42)\n",
    "    (define outra-coisa)\n",
    "    ; Comentario\n",
    "    [4 + 5]\n",
    "\"\"\"\n",
    "\n",
    "parse(st)"
   ]
  },
  {
   "cell_type": "code",
   "execution_count": null,
   "metadata": {},
   "outputs": [],
   "source": []
  },
  {
   "cell_type": "code",
   "execution_count": 77,
   "metadata": {},
   "outputs": [
    {
     "name": "stdout",
     "output_type": "stream",
     "text": [
      "Token(LPAR, '(')\n",
      "Token(SYMBOL, '+')\n",
      "Token(INT, '40')\n",
      "Token(STRING, '\"2\"')\n",
      "Token(RPAR, ')')\n",
      "start\n",
      "  value\n",
      "    sexpr\n",
      "      symbol\t+\n",
      "      40\n",
      "      2\n",
      "\n"
     ]
    },
    {
     "data": {
      "text/plain": [
       "Tree(start, [Tree(value, [Tree(sexpr, [Tree(symbol, [Token(SYMBOL, '+')]), 40, '2'])])])"
      ]
     },
     "execution_count": 77,
     "metadata": {},
     "output_type": "execute_result"
    }
   ],
   "source": [
    "st = '(+ 40 \"2\")'\n",
    "parse(st)"
   ]
  },
  {
   "cell_type": "code",
   "execution_count": 58,
   "metadata": {},
   "outputs": [
    {
     "data": {
      "text/plain": [
       "int"
      ]
     },
     "execution_count": 58,
     "metadata": {},
     "output_type": "execute_result"
    }
   ],
   "source": [
    "t = LispyPPTransformer()\n",
    "t.foo = 42\n",
    "\n",
    "\n",
    "attr = 'int'\n",
    "try:\n",
    "    descr = type(t).__dict__[attr]\n",
    "    try:\n",
    "        getter = descr.__get__\n",
    "    except AttributeError:\n",
    "        res = descr\n",
    "    else:\n",
    "        res = getter(t, type(t))\n",
    "except KeyError:\n",
    "    res = t.__dict__[attr]\n",
    "res"
   ]
  },
  {
   "cell_type": "code",
   "execution_count": null,
   "metadata": {},
   "outputs": [],
   "source": []
  },
  {
   "cell_type": "code",
   "execution_count": 68,
   "metadata": {},
   "outputs": [
    {
     "data": {
      "text/plain": [
       "<bound method LispyPPTransformer.foobar of <__main__.LispyPPTransformer object at 0x7f9b000a64a8>>"
      ]
     },
     "execution_count": 68,
     "metadata": {},
     "output_type": "execute_result"
    }
   ],
   "source": [
    "t.foobar(40) == LispyPPTransformer.foobar(t, 40)\n",
    "\n",
    "LispyPPTransformer.foobar.__get__(t)"
   ]
  },
  {
   "cell_type": "markdown",
   "metadata": {},
   "source": [
    "# Interpretador\n",
    "\n",
    "O interpretador consiste em uma única função que recebe uma árvore sintática e executa os comandos correspondentes no contexto dado."
   ]
  },
  {
   "cell_type": "code",
   "execution_count": null,
   "metadata": {},
   "outputs": [],
   "source": []
  },
  {
   "cell_type": "code",
   "execution_count": 140,
   "metadata": {},
   "outputs": [],
   "source": [
    "def run_ast(ast: Ast, ctx: Ctx):\n",
    "    \"\"\"\n",
    "    Executa árvore sintática no contexto de execução dada.\n",
    "    \"\"\"\n",
    "    \n",
    "    if isinstance(ast, (float, int)):\n",
    "        return ast\n",
    "    elif isinstance(ast, Symbol):\n",
    "        try:\n",
    "            return ctx[ast]\n",
    "        except KeyError:\n",
    "            raise NameError(f'unknown variable: {ast}')\n",
    "    \n",
    "    head, *args = ast\n",
    "    if head.data == 'define':\n",
    "        name, value = args\n",
    "        ctx[name] = result = run_ast(value, ctx)\n",
    "        return result\n",
    "\n",
    "    elif head.data == 'if':\n",
    "        cond, true, false = args\n",
    "        cond = run_ast(cond, ctx)\n",
    "        if cond:\n",
    "            return run_ast(true, ctx)\n",
    "        else:\n",
    "            return run_ast(false, ctx)\n",
    "        \n",
    "    elif head.data == 'lambda':\n",
    "        arg_names, body = args\n",
    "        \n",
    "        def function(*arg_values):\n",
    "            local = dict(zip(arg_names, arg_values))\n",
    "            new_ctx = ChainMap(local, ctx)\n",
    "            return run_ast(body, new_ctx)\n",
    "        return function\n",
    "    \n",
    "    else:\n",
    "        func = run_ast(head, ctx)\n",
    "        args = [run_ast(arg, ctx) for arg in args]\n",
    "        return func(*args)"
   ]
  },
  {
   "cell_type": "code",
   "execution_count": 152,
   "metadata": {},
   "outputs": [
    {
     "data": {
      "text/plain": [
       "120"
      ]
     },
     "execution_count": 152,
     "metadata": {},
     "output_type": "execute_result"
    }
   ],
   "source": [
    "#\n",
    "# Exemplos\n",
    "#\n",
    "scheme_factorial = '''\n",
    "(define fat (lambda (n) \n",
    "    (if [n < 2] \n",
    "        1\n",
    "        [n * (fat [n - 1])])))\n",
    "'''\n",
    "\n",
    "scheme_factorial = '''\n",
    "[fat <- (lambda (n) \n",
    "    (if [n < 2] \n",
    "        1\n",
    "        [n * (fat [n - 1])]))]\n",
    "'''\n",
    "\n",
    "fat = eval_scheme(scheme_factorial)\n",
    "fat(5)"
   ]
  },
  {
   "cell_type": "code",
   "execution_count": null,
   "metadata": {},
   "outputs": [],
   "source": []
  }
 ],
 "metadata": {
  "kernelspec": {
   "display_name": "Python 3",
   "language": "python",
   "name": "python3"
  },
  "language_info": {
   "codemirror_mode": {
    "name": "ipython",
    "version": 3
   },
   "file_extension": ".py",
   "mimetype": "text/x-python",
   "name": "python",
   "nbconvert_exporter": "python",
   "pygments_lexer": "ipython3",
   "version": "3.6.5"
  }
 },
 "nbformat": 4,
 "nbformat_minor": 2
}
