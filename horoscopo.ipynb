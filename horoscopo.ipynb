{
 "cells": [
  {
   "cell_type": "code",
   "execution_count": 5,
   "metadata": {},
   "outputs": [],
   "source": [
    "from lark import Lark\n",
    "from hypothesis.extra import lark\n",
    "\n",
    "grammar = Lark(\"\"\"\n",
    "start : PLANETA _S \"em\" _S SIGNO _S \"indica\" _S EVENTO \".\"\n",
    "\n",
    "PLANETA : \"Mercúrio\" | \"Vênus\" | \"Marte\" \n",
    "SIGNO : \"Áries\" | \"Touro\" | \"Gêmeos\"\n",
    "//SIGNO : \"Capricórnio\"\n",
    "OBJETO_EVENTO: \"no amor\" | \"na política\"\n",
    "INDOLE_EVENTO: \"alegrias\" | \"problemas\"\n",
    "EVENTO : INDOLE_EVENTO _S OBJETO_EVENTO | INDOLE_EVENTO _S OBJETO_EVENTO\n",
    "_S : \" \"\n",
    "\"\"\")"
   ]
  },
  {
   "cell_type": "code",
   "execution_count": 6,
   "metadata": {},
   "outputs": [
    {
     "name": "stdout",
     "output_type": "stream",
     "text": [
      "Mercúrio em Touro indica problemas na política.\n",
      "Marte em Áries indica problemas na política.\n",
      "Marte em Gêmeos indica alegrias na política.\n",
      "Vênus em Touro indica problemas no amor.\n",
      "Mercúrio em Áries indica alegrias no amor.\n",
      "Marte em Touro indica problemas no amor.\n",
      "Vênus em Touro indica problemas no amor.\n",
      "Vênus em Gêmeos indica alegrias no amor.\n",
      "Mercúrio em Áries indica alegrias no amor.\n",
      "Vênus em Gêmeos indica problemas na política.\n"
     ]
    }
   ],
   "source": [
    "gen = lark.from_lark(grammar)\n",
    "for i in range(10):\n",
    "    print(gen.example())"
   ]
  },
  {
   "cell_type": "code",
   "execution_count": null,
   "metadata": {},
   "outputs": [],
   "source": []
  }
 ],
 "metadata": {
  "kernelspec": {
   "display_name": "Python 3",
   "language": "python",
   "name": "python3"
  },
  "language_info": {
   "codemirror_mode": {
    "name": "ipython",
    "version": 3
   },
   "file_extension": ".py",
   "mimetype": "text/x-python",
   "name": "python",
   "nbconvert_exporter": "python",
   "pygments_lexer": "ipython3",
   "version": "3.5.2"
  }
 },
 "nbformat": 4,
 "nbformat_minor": 2
}
