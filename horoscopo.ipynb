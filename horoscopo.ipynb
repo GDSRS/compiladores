{
 "cells": [
  {
   "cell_type": "code",
   "execution_count": 13,
   "metadata": {},
   "outputs": [
    {
     "name": "stdout",
     "output_type": "stream",
     "text": [
      "Requirement already satisfied: lark-parser in ./.local/lib/python3.7/site-packages (0.7.2)\r\n",
      "Requirement already satisfied: hypothesis in /usr/lib/python3.7/site-packages (4.32.3)\r\n",
      "Requirement already satisfied: attrs>=16.0.0 in /usr/lib/python3.7/site-packages (from hypothesis) (19.1.0)\r\n"
     ]
    }
   ],
   "source": [
    "!pip install lark-parser hypothesis --user"
   ]
  },
  {
   "cell_type": "code",
   "execution_count": 44,
   "metadata": {},
   "outputs": [],
   "source": [
    "from lark import Lark\n",
    "from hypothesis.extra import lark\n",
    "\n",
    "grammar = Lark(\"\"\"\n",
    "start : PLANETA _S \"em\" _S SIGNO _S \"indica\" _S EVENTO \".\"\n",
    "\n",
    "PLANETA : \"Mercúrio\" | \"Vênus\" | \"Marte\" \n",
    "//SIGNO : \"Áries\" | \"Touro\" | \"Gêmeos\"\n",
    "SIGNO : \"Capricórnio\"\n",
    "EVENTO : \"alegrias no amor\" | \"problemas na política\"\n",
    "_S : \" \"\n",
    "\"\"\")"
   ]
  },
  {
   "cell_type": "code",
   "execution_count": 46,
   "metadata": {},
   "outputs": [
    {
     "name": "stdout",
     "output_type": "stream",
     "text": [
      "Marte em Capricórnio indica problemas na política.\n",
      "Mercúrio em Capricórnio indica alegrias no amor.\n",
      "Marte em Capricórnio indica alegrias no amor.\n",
      "Vênus em Capricórnio indica alegrias no amor.\n",
      "Mercúrio em Capricórnio indica alegrias no amor.\n",
      "Vênus em Capricórnio indica alegrias no amor.\n",
      "Marte em Capricórnio indica alegrias no amor.\n",
      "Vênus em Capricórnio indica problemas na política.\n",
      "Mercúrio em Capricórnio indica alegrias no amor.\n",
      "Mercúrio em Capricórnio indica problemas na política.\n"
     ]
    }
   ],
   "source": [
    "gen = lark.from_lark(grammar)\n",
    "for i in range(10):\n",
    "    print(gen.example())"
   ]
  },
  {
   "cell_type": "code",
   "execution_count": null,
   "metadata": {},
   "outputs": [],
   "source": []
  }
 ],
 "metadata": {
  "kernelspec": {
   "display_name": "Python 3",
   "language": "python",
   "name": "python3"
  },
  "language_info": {
   "codemirror_mode": {
    "name": "ipython",
    "version": 3
   },
   "file_extension": ".py",
   "mimetype": "text/x-python",
   "name": "python",
   "nbconvert_exporter": "python",
   "pygments_lexer": "ipython3",
   "version": "3.7.4"
  }
 },
 "nbformat": 4,
 "nbformat_minor": 2
}
